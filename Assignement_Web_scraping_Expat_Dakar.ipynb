{
  "cells": [
    {
      "cell_type": "markdown",
      "source": [
        "## **Web Scraping de données sur des voitures de type venant en vente**"
      ],
      "metadata": {
        "id": "e84zT_JN385V"
      }
    },
    {
      "cell_type": "code",
      "source": [
        "# Importer package \n",
        "from requests import get\n",
        "from bs4 import BeautifulSoup\n",
        "\n",
        "import pandas as pd"
      ],
      "metadata": {
        "id": "ix8SqO3n_oI9"
      },
      "execution_count": null,
      "outputs": []
    },
    {
      "cell_type": "code",
      "source": [
        "# url de la page 1\n",
        "Url1 = 'https://www.expat-dakar.com/voitures/dakar?condition=used-abroad'\n",
        "res1 = get(Url1)"
      ],
      "metadata": {
        "id": "2DPOCn-4MTHm"
      },
      "execution_count": null,
      "outputs": []
    },
    {
      "cell_type": "code",
      "source": [
        "# Objet BeautifulSoup\n",
        "soup1 = BeautifulSoup(res1.text)"
      ],
      "metadata": {
        "id": "MmwenJsLV0e5"
      },
      "execution_count": null,
      "outputs": []
    },
    {
      "cell_type": "code",
      "source": [
        "# Récupérer le code html de tous les conteneurs de la page 1\n",
        "conteneurs = soup1.find_all('div',class_='listings-cards__list-item')"
      ],
      "metadata": {
        "id": "LK1UTgZfV_eG"
      },
      "execution_count": null,
      "outputs": []
    },
    {
      "cell_type": "code",
      "source": [
        "# Premier conteneur de la page 1\n",
        "conteneur = conteneurs[1]"
      ],
      "metadata": {
        "id": "0tMVQZZ12mdP"
      },
      "execution_count": null,
      "outputs": []
    },
    {
      "cell_type": "code",
      "source": [
        "# Collecter les  données contenues sur le premier conteneur de la page 1 \n",
        "Gen1 =conteneur.find('div',class_='listing-card__header__tags').find_all('span') # Utiliser find et find_all pour récupérer le code html contenant les quatre données ( Venant, Marque, Année, Automtique ou Manuelle )\n",
        "Ven_Occ =Gen1[0].text # Voiture venant ou occasion (Récupérer Ven_Occ en partant de Gen1)\n",
        "Marque= Gen1[1].text # Marque de la voiture (Récupérer Marque en partant de Gen1)\n",
        "Année = Gen1[2].text  # Année de la voiture (Récupérer Année en partant de Gen1)\n",
        "Aut_Man = Gen1[3].text # Voiture automatique ou manuelle (Récupérer Aut_Man en partant de Gen1)\n",
        "Adresse = conteneur.find('div',class_=\"listing-card__header__location\").text.replace('\\n','') # Adresse \n",
        "Prix = conteneur.find('div',class_=\"listing-card__info-bar__price\").span.text.strip().replace('\\u202f','').replace(' F Cfa','') # Prix de la voiture\n",
        "# Creation du dictionnaire qui contiendra les données du premier conteneur\n",
        "obj1 = {\n",
        "           'Ven_Occ': Ven_Occ,\n",
        "           'Marque': Marque, \n",
        "           'Année': Année,\n",
        "           'Aut_Man': Aut_Man, \n",
        "           'Adresse': Adresse,\n",
        "           'Prix': Prix\n",
        "      }\n",
        "obj1"
      ],
      "metadata": {
        "id": "W9MiZ0_f2yDT",
        "colab": {
          "base_uri": "https://localhost:8080/"
        },
        "outputId": "2c5dec51-6569-482b-e7c8-f7f1228b138d"
      },
      "execution_count": null,
      "outputs": [
        {
          "output_type": "execute_result",
          "data": {
            "text/plain": [
              "{'Ven_Occ': 'Venant',\n",
              " 'Marque': 'Volkswagen',\n",
              " 'Année': '2019',\n",
              " 'Aut_Man': 'Automatique',\n",
              " 'Adresse': 'Sacré-cœur,Dakar',\n",
              " 'Prix': '24000000'}"
            ]
          },
          "metadata": {},
          "execution_count": 6
        }
      ]
    },
    {
      "cell_type": "code",
      "source": [
        "# Collecter les données de tous les conteneurs  de la première page \n",
        "data1 = []\n",
        "for conteneur in conteneurs: \n",
        "  try :\n",
        "    Gen1 =  Gen1=conteneur.find('div',class_='listing-card__header__tags').find_all('span')\n",
        "    Ven_Occ = Gen1[0].text \n",
        "    Marque= Gen1[1].text\n",
        "    Année = Gen1[2].text \n",
        "    Aut_Man = Gen1[3].text\n",
        "    Adresse = conteneur.find('div',class_=\"listing-card__header__location\").text.replace('\\n','')\n",
        "    Prix = conteneur.find('div',class_=\"listing-card__info-bar__price\").span.text.strip().replace('\\u202f','').replace(' F Cfa','')\n",
        "      \n",
        "    obj1 = {\n",
        "           'Ven_Occ': Ven_Occ,\n",
        "           'Marque': Marque, \n",
        "           'Année': Année, \n",
        "           'Aut_Man': Aut_Man, \n",
        "           'Adresse': Adresse,\n",
        "           'Prix': Prix \n",
        "        }\n",
        "    data1.append(obj1)   \n",
        "  except:\n",
        "    pass"
      ],
      "metadata": {
        "id": "JuokRVGX4yFL"
      },
      "execution_count": null,
      "outputs": []
    },
    {
      "cell_type": "code",
      "source": [
        "# Dataframe des données de la page 1\n",
        "df1 = pd.DataFrame(data1)"
      ],
      "metadata": {
        "id": "VNnk4NGg5lUu"
      },
      "execution_count": null,
      "outputs": []
    },
    {
      "cell_type": "code",
      "source": [
        "# Collecter les données de la page 1 à la page 311\n",
        "df1 = pd.DataFrame() # Dataframe final\n",
        "for p in range(1,312):\n",
        "\n",
        "\n",
        "  # Fournir le code\n",
        "  Url1 = f'https://www.expat-dakar.com/voitures/dakar?condition=used-abroad&page={p}'\n",
        "  res1 = get(Url1)\n",
        "  soup1 = BeautifulSoup(res1.text)\n",
        "  conteneurs = soup1.find_all('div',class_='listings-cards__list-item')\n",
        "\n",
        "  # code fournier le code\n",
        "  data1 = []\n",
        "  for conteneur in conteneurs: \n",
        "\n",
        "    try :\n",
        "      Gen1 =  Gen1=conteneur.find('div',class_='listing-card__header__tags').find_all('span')\n",
        "      Ven_Occ = Gen1[0].text \n",
        "      Marque= Gen1[1].text\n",
        "      Année = Gen1[2].text \n",
        "      Aut_Man = Gen1[3].text\n",
        "      Adresse = conteneur.find('div',class_=\"listing-card__header__location\").text.replace('\\n','')\n",
        "      Prix = conteneur.find('div',class_=\"listing-card__info-bar__price\").span.text.strip().replace('\\u202f','').replace(' F Cfa','')\n",
        "        \n",
        "      obj1 = {\n",
        "            'Ven_Occ': Ven_Occ,\n",
        "            'Marque': Marque, \n",
        "            'Année': int(Année), \n",
        "            'Aut_Man': Aut_Man, \n",
        "            'Adresse': Adresse,\n",
        "            'Prix': int(Prix) \n",
        "          }\n",
        "      data1.append(obj1)   \n",
        "    except:\n",
        "      pass\n",
        "  DF1 =pd.DataFrame(data1) # Dataframe d'une page \n",
        "  df1 =pd.concat([df1,DF1,],axis=0) # Concatenation de DF1 et df1\n"
      ],
      "metadata": {
        "id": "sZ15oZo_336P"
      },
      "execution_count": null,
      "outputs": []
    },
    {
      "cell_type": "code",
      "source": [
        "# Afficher les 5 premiers lignes de df1\n",
        "df1.head(5)"
      ],
      "metadata": {
        "id": "tJOBTVMI6Qay",
        "colab": {
          "base_uri": "https://localhost:8080/",
          "height": 206
        },
        "outputId": "ccf12722-1eef-4f18-eef4-373bc0b7bc5d"
      },
      "execution_count": null,
      "outputs": [
        {
          "output_type": "execute_result",
          "data": {
            "text/plain": [
              "  Ven_Occ      Marque  Année      Aut_Man           Adresse      Prix\n",
              "0  Venant       Mazda   2016  Automatique     Mermoz,Dakar    9800000\n",
              "1  Venant  Volkswagen   2019  Automatique  Sacré-cœur,Dakar  24000000\n",
              "2  Venant       Mazda   2016  Automatique      Mermoz,Dakar   9800000\n",
              "3  Venant     Hyundai   2016  Automatique   Cambérène,Dakar  14500000\n",
              "4  Venant        Ford   2015  Automatique         VDN,Dakar   6600000"
            ],
            "text/html": [
              "\n",
              "  <div id=\"df-2b9717be-0328-4eb8-99ac-86bcf0afe266\">\n",
              "    <div class=\"colab-df-container\">\n",
              "      <div>\n",
              "<style scoped>\n",
              "    .dataframe tbody tr th:only-of-type {\n",
              "        vertical-align: middle;\n",
              "    }\n",
              "\n",
              "    .dataframe tbody tr th {\n",
              "        vertical-align: top;\n",
              "    }\n",
              "\n",
              "    .dataframe thead th {\n",
              "        text-align: right;\n",
              "    }\n",
              "</style>\n",
              "<table border=\"1\" class=\"dataframe\">\n",
              "  <thead>\n",
              "    <tr style=\"text-align: right;\">\n",
              "      <th></th>\n",
              "      <th>Ven_Occ</th>\n",
              "      <th>Marque</th>\n",
              "      <th>Année</th>\n",
              "      <th>Aut_Man</th>\n",
              "      <th>Adresse</th>\n",
              "      <th>Prix</th>\n",
              "    </tr>\n",
              "  </thead>\n",
              "  <tbody>\n",
              "    <tr>\n",
              "      <th>0</th>\n",
              "      <td>Venant</td>\n",
              "      <td>Mazda</td>\n",
              "      <td>2016</td>\n",
              "      <td>Automatique</td>\n",
              "      <td>Mermoz,Dakar</td>\n",
              "      <td>9800000</td>\n",
              "    </tr>\n",
              "    <tr>\n",
              "      <th>1</th>\n",
              "      <td>Venant</td>\n",
              "      <td>Volkswagen</td>\n",
              "      <td>2019</td>\n",
              "      <td>Automatique</td>\n",
              "      <td>Sacré-cœur,Dakar</td>\n",
              "      <td>24000000</td>\n",
              "    </tr>\n",
              "    <tr>\n",
              "      <th>2</th>\n",
              "      <td>Venant</td>\n",
              "      <td>Mazda</td>\n",
              "      <td>2016</td>\n",
              "      <td>Automatique</td>\n",
              "      <td>Mermoz,Dakar</td>\n",
              "      <td>9800000</td>\n",
              "    </tr>\n",
              "    <tr>\n",
              "      <th>3</th>\n",
              "      <td>Venant</td>\n",
              "      <td>Hyundai</td>\n",
              "      <td>2016</td>\n",
              "      <td>Automatique</td>\n",
              "      <td>Cambérène,Dakar</td>\n",
              "      <td>14500000</td>\n",
              "    </tr>\n",
              "    <tr>\n",
              "      <th>4</th>\n",
              "      <td>Venant</td>\n",
              "      <td>Ford</td>\n",
              "      <td>2015</td>\n",
              "      <td>Automatique</td>\n",
              "      <td>VDN,Dakar</td>\n",
              "      <td>6600000</td>\n",
              "    </tr>\n",
              "  </tbody>\n",
              "</table>\n",
              "</div>\n",
              "      <button class=\"colab-df-convert\" onclick=\"convertToInteractive('df-2b9717be-0328-4eb8-99ac-86bcf0afe266')\"\n",
              "              title=\"Convert this dataframe to an interactive table.\"\n",
              "              style=\"display:none;\">\n",
              "        \n",
              "  <svg xmlns=\"http://www.w3.org/2000/svg\" height=\"24px\"viewBox=\"0 0 24 24\"\n",
              "       width=\"24px\">\n",
              "    <path d=\"M0 0h24v24H0V0z\" fill=\"none\"/>\n",
              "    <path d=\"M18.56 5.44l.94 2.06.94-2.06 2.06-.94-2.06-.94-.94-2.06-.94 2.06-2.06.94zm-11 1L8.5 8.5l.94-2.06 2.06-.94-2.06-.94L8.5 2.5l-.94 2.06-2.06.94zm10 10l.94 2.06.94-2.06 2.06-.94-2.06-.94-.94-2.06-.94 2.06-2.06.94z\"/><path d=\"M17.41 7.96l-1.37-1.37c-.4-.4-.92-.59-1.43-.59-.52 0-1.04.2-1.43.59L10.3 9.45l-7.72 7.72c-.78.78-.78 2.05 0 2.83L4 21.41c.39.39.9.59 1.41.59.51 0 1.02-.2 1.41-.59l7.78-7.78 2.81-2.81c.8-.78.8-2.07 0-2.86zM5.41 20L4 18.59l7.72-7.72 1.47 1.35L5.41 20z\"/>\n",
              "  </svg>\n",
              "      </button>\n",
              "      \n",
              "  <style>\n",
              "    .colab-df-container {\n",
              "      display:flex;\n",
              "      flex-wrap:wrap;\n",
              "      gap: 12px;\n",
              "    }\n",
              "\n",
              "    .colab-df-convert {\n",
              "      background-color: #E8F0FE;\n",
              "      border: none;\n",
              "      border-radius: 50%;\n",
              "      cursor: pointer;\n",
              "      display: none;\n",
              "      fill: #1967D2;\n",
              "      height: 32px;\n",
              "      padding: 0 0 0 0;\n",
              "      width: 32px;\n",
              "    }\n",
              "\n",
              "    .colab-df-convert:hover {\n",
              "      background-color: #E2EBFA;\n",
              "      box-shadow: 0px 1px 2px rgba(60, 64, 67, 0.3), 0px 1px 3px 1px rgba(60, 64, 67, 0.15);\n",
              "      fill: #174EA6;\n",
              "    }\n",
              "\n",
              "    [theme=dark] .colab-df-convert {\n",
              "      background-color: #3B4455;\n",
              "      fill: #D2E3FC;\n",
              "    }\n",
              "\n",
              "    [theme=dark] .colab-df-convert:hover {\n",
              "      background-color: #434B5C;\n",
              "      box-shadow: 0px 1px 3px 1px rgba(0, 0, 0, 0.15);\n",
              "      filter: drop-shadow(0px 1px 2px rgba(0, 0, 0, 0.3));\n",
              "      fill: #FFFFFF;\n",
              "    }\n",
              "  </style>\n",
              "\n",
              "      <script>\n",
              "        const buttonEl =\n",
              "          document.querySelector('#df-2b9717be-0328-4eb8-99ac-86bcf0afe266 button.colab-df-convert');\n",
              "        buttonEl.style.display =\n",
              "          google.colab.kernel.accessAllowed ? 'block' : 'none';\n",
              "\n",
              "        async function convertToInteractive(key) {\n",
              "          const element = document.querySelector('#df-2b9717be-0328-4eb8-99ac-86bcf0afe266');\n",
              "          const dataTable =\n",
              "            await google.colab.kernel.invokeFunction('convertToInteractive',\n",
              "                                                     [key], {});\n",
              "          if (!dataTable) return;\n",
              "\n",
              "          const docLinkHtml = 'Like what you see? Visit the ' +\n",
              "            '<a target=\"_blank\" href=https://colab.research.google.com/notebooks/data_table.ipynb>data table notebook</a>'\n",
              "            + ' to learn more about interactive tables.';\n",
              "          element.innerHTML = '';\n",
              "          dataTable['output_type'] = 'display_data';\n",
              "          await google.colab.output.renderOutput(dataTable, element);\n",
              "          const docLink = document.createElement('div');\n",
              "          docLink.innerHTML = docLinkHtml;\n",
              "          element.appendChild(docLink);\n",
              "        }\n",
              "      </script>\n",
              "    </div>\n",
              "  </div>\n",
              "  "
            ]
          },
          "metadata": {},
          "execution_count": 10
        }
      ]
    },
    {
      "cell_type": "code",
      "source": [
        "# Afficher la dimension de df1\n",
        "df1.shape"
      ],
      "metadata": {
        "id": "ux1C9Xqe6YMV",
        "colab": {
          "base_uri": "https://localhost:8080/"
        },
        "outputId": "2a0d8da1-216a-43ce-d233-412453b6fcfe"
      },
      "execution_count": null,
      "outputs": [
        {
          "output_type": "execute_result",
          "data": {
            "text/plain": [
              "(3376, 6)"
            ]
          },
          "metadata": {},
          "execution_count": 12
        }
      ]
    },
    {
      "cell_type": "code",
      "source": [
        "# Reset des index\n",
        "df1.reset_index(drop = True, inplace =True)"
      ],
      "metadata": {
        "id": "yAdlTpgL6bhs"
      },
      "execution_count": null,
      "outputs": []
    },
    {
      "cell_type": "code",
      "source": [
        "# Infos de données\n",
        "df1.info()"
      ],
      "metadata": {
        "id": "Prp-1w5f9vBU",
        "colab": {
          "base_uri": "https://localhost:8080/"
        },
        "outputId": "88b16e7f-30d2-4b16-e43e-4d92b9063c9c"
      },
      "execution_count": null,
      "outputs": [
        {
          "output_type": "stream",
          "name": "stdout",
          "text": [
            "<class 'pandas.core.frame.DataFrame'>\n",
            "RangeIndex: 3376 entries, 0 to 3375\n",
            "Data columns (total 6 columns):\n",
            " #   Column   Non-Null Count  Dtype \n",
            "---  ------   --------------  ----- \n",
            " 0   Ven_Occ  3376 non-null   object\n",
            " 1   Marque   3376 non-null   object\n",
            " 2   Année    3376 non-null   int64 \n",
            " 3   Aut_Man  3376 non-null   object\n",
            " 4   Adresse  3376 non-null   object\n",
            " 5   Prix     3376 non-null   int64 \n",
            "dtypes: int64(2), object(4)\n",
            "memory usage: 158.4+ KB\n"
          ]
        }
      ]
    },
    {
      "cell_type": "markdown",
      "source": [
        "## **Web Scraping de données sur des voitures de type occasion en vente**"
      ],
      "metadata": {
        "id": "qfbDKLX1A2S5"
      }
    },
    {
      "cell_type": "code",
      "source": [
        "# Url de la page 1\n",
        "Url2 = 'https://www.expat-dakar.com/vehicules?condition=used'\n",
        "res2 = get(Url2 )"
      ],
      "metadata": {
        "id": "5bNzdT-WA2iJ"
      },
      "execution_count": null,
      "outputs": []
    },
    {
      "cell_type": "code",
      "source": [
        "# Objet BeautifulSoup\n",
        "soup2 = BeautifulSoup(res2.text)"
      ],
      "metadata": {
        "id": "ZwnRyRqGw85C"
      },
      "execution_count": null,
      "outputs": []
    },
    {
      "cell_type": "code",
      "source": [
        "# Récupérer le code html de tous les conteneurs de la page 1\n",
        "Conteneurs = soup2.find_all('div',class_='listings-cards__list-item')"
      ],
      "metadata": {
        "id": "gascqKDhw9dP"
      },
      "execution_count": null,
      "outputs": []
    },
    {
      "cell_type": "code",
      "source": [
        "# Premier conteneur de la page 1\n",
        "Conteneur = Conteneurs[0]"
      ],
      "metadata": {
        "id": "UCvOgwy_xAsf"
      },
      "execution_count": null,
      "outputs": []
    },
    {
      "cell_type": "code",
      "source": [
        "# Collecter les  données contenues sur le premier conteneur de la page 1\n",
        "Gen2 = Conteneur.find('div',class_='listing-card__header__tags').find_all('span') # Utiliser find et find_all pour récupérer le code html contenant les quatre données ( D'occasion, Marque, Année, Automtique ou Manuelle )\n",
        "Ven_Occ = Gen2[0].text  # Voiture venant ou occasion (Récupérer Ven_Occ en partant de Gen2)\n",
        "Marque=  Gen2[1].text # Marque de la voiture (Récupérer Marque en partant de Gen2)\n",
        "Année = Gen2[2].text # Année de la voiture (Récupérer Année en partant de Gen2)\n",
        "Aut_Man = Gen2[3].text # Voiture automatique ou manuelle (Récupérer Aut_Man en partant de Gen2)\n",
        "Adresse = Conteneur.find('div',class_=\"listing-card__header__location\").text.replace('\\n','')  # Adresse \n",
        "Prix =   Conteneur.find('div',class_=\"listing-card__info-bar__price\").span.text.strip().replace('\\u202f','').replace(' F Cfa','')  # Prix de la voiture\n",
        "# Creation du dictionnaire qui contiendra les données du premier conteneur\n",
        "obj2 = {\n",
        "           'Ven_Occ': Ven_Occ,\n",
        "           'Marque': Marque, \n",
        "           'Année': Année,\n",
        "           'Aut_Man': Aut_Man, \n",
        "           'Adresse': Adresse,\n",
        "           'Prix': Prix\n",
        "      }\n",
        "obj2"
      ],
      "metadata": {
        "id": "YFzun80yxIEp",
        "colab": {
          "base_uri": "https://localhost:8080/"
        },
        "outputId": "4bcc8da0-15d7-44dc-a993-d9fd4e8a2806"
      },
      "execution_count": null,
      "outputs": [
        {
          "output_type": "execute_result",
          "data": {
            "text/plain": [
              "{'Ven_Occ': \"D'occasion\",\n",
              " 'Marque': 'Land Rover',\n",
              " 'Année': '2016',\n",
              " 'Aut_Man': 'Automatique',\n",
              " 'Adresse': 'Ngor,Dakar',\n",
              " 'Prix': '14500000'}"
            ]
          },
          "metadata": {},
          "execution_count": 19
        }
      ]
    },
    {
      "cell_type": "code",
      "source": [
        "# Collecter les données de tous les conteneurs  de la première page \n",
        "data2 = []\n",
        "for Conteneur in Conteneurs : \n",
        "  try :\n",
        "    Gen2 = Conteneur.find('div',class_='listing-card__header__tags').find_all('span')\n",
        "    Ven_Occ = Gen2[0].text \n",
        "    Marque= Gen2[1].text\n",
        "    Année = Gen2[2].text \n",
        "    Aut_Man = Gen2[3].text\n",
        "    Adresse = Conteneur.find('div',class_=\"listing-card__header__location\").text.replace('\\n','')\n",
        "    Prix = Conteneur.find('div',class_=\"listing-card__info-bar__price\").span.text.strip().replace('\\u202f','').replace(' F Cfa','')\n",
        "      \n",
        "      \n",
        "    obj2 = {\n",
        "           'Ven_Occ': Ven_Occ,\n",
        "           'Marque': Marque, \n",
        "           'Année': Année, \n",
        "           'Aut_Man': Aut_Man, \n",
        "           'Adresse': Adresse,\n",
        "           'Prix': Prix \n",
        "        }\n",
        "    data2.append(obj2)   \n",
        "  except:\n",
        "    pass"
      ],
      "metadata": {
        "id": "SJ3EHZRW-NTp"
      },
      "execution_count": null,
      "outputs": []
    },
    {
      "cell_type": "code",
      "source": [
        "# DataFrame des données de la page 1\n",
        "df2 = pd.DataFrame(data2)"
      ],
      "metadata": {
        "id": "-B_nM5UpAo5d"
      },
      "execution_count": null,
      "outputs": []
    },
    {
      "cell_type": "code",
      "source": [
        "df2.head(5)"
      ],
      "metadata": {
        "colab": {
          "base_uri": "https://localhost:8080/",
          "height": 206
        },
        "id": "eQCHKQjHS09a",
        "outputId": "02748307-d644-4b18-c826-69c1a7a6d544"
      },
      "execution_count": null,
      "outputs": [
        {
          "output_type": "execute_result",
          "data": {
            "text/plain": [
              "      Ven_Occ      Marque Année      Aut_Man           Adresse      Prix\n",
              "0  D'occasion  Land Rover  2016  Automatique        Ngor,Dakar  14500000\n",
              "1  D'occasion     Hyundai  2015  Automatique  Sacré-cœur,Dakar  11500000\n",
              "2  D'occasion        Ford  2012  Automatique         VDN,Dakar   5200000\n",
              "3  D'occasion     Peugeot  2009     Manuelle  Guediawaye,Dakar   4500000\n",
              "4  D'occasion        Ford  2013  Automatique    Mamelles,Dakar   3600000"
            ],
            "text/html": [
              "\n",
              "  <div id=\"df-6c3c5015-b967-47a6-ab90-d3894f6c5bd9\">\n",
              "    <div class=\"colab-df-container\">\n",
              "      <div>\n",
              "<style scoped>\n",
              "    .dataframe tbody tr th:only-of-type {\n",
              "        vertical-align: middle;\n",
              "    }\n",
              "\n",
              "    .dataframe tbody tr th {\n",
              "        vertical-align: top;\n",
              "    }\n",
              "\n",
              "    .dataframe thead th {\n",
              "        text-align: right;\n",
              "    }\n",
              "</style>\n",
              "<table border=\"1\" class=\"dataframe\">\n",
              "  <thead>\n",
              "    <tr style=\"text-align: right;\">\n",
              "      <th></th>\n",
              "      <th>Ven_Occ</th>\n",
              "      <th>Marque</th>\n",
              "      <th>Année</th>\n",
              "      <th>Aut_Man</th>\n",
              "      <th>Adresse</th>\n",
              "      <th>Prix</th>\n",
              "    </tr>\n",
              "  </thead>\n",
              "  <tbody>\n",
              "    <tr>\n",
              "      <th>0</th>\n",
              "      <td>D'occasion</td>\n",
              "      <td>Land Rover</td>\n",
              "      <td>2016</td>\n",
              "      <td>Automatique</td>\n",
              "      <td>Ngor,Dakar</td>\n",
              "      <td>14500000</td>\n",
              "    </tr>\n",
              "    <tr>\n",
              "      <th>1</th>\n",
              "      <td>D'occasion</td>\n",
              "      <td>Hyundai</td>\n",
              "      <td>2015</td>\n",
              "      <td>Automatique</td>\n",
              "      <td>Sacré-cœur,Dakar</td>\n",
              "      <td>11500000</td>\n",
              "    </tr>\n",
              "    <tr>\n",
              "      <th>2</th>\n",
              "      <td>D'occasion</td>\n",
              "      <td>Ford</td>\n",
              "      <td>2012</td>\n",
              "      <td>Automatique</td>\n",
              "      <td>VDN,Dakar</td>\n",
              "      <td>5200000</td>\n",
              "    </tr>\n",
              "    <tr>\n",
              "      <th>3</th>\n",
              "      <td>D'occasion</td>\n",
              "      <td>Peugeot</td>\n",
              "      <td>2009</td>\n",
              "      <td>Manuelle</td>\n",
              "      <td>Guediawaye,Dakar</td>\n",
              "      <td>4500000</td>\n",
              "    </tr>\n",
              "    <tr>\n",
              "      <th>4</th>\n",
              "      <td>D'occasion</td>\n",
              "      <td>Ford</td>\n",
              "      <td>2013</td>\n",
              "      <td>Automatique</td>\n",
              "      <td>Mamelles,Dakar</td>\n",
              "      <td>3600000</td>\n",
              "    </tr>\n",
              "  </tbody>\n",
              "</table>\n",
              "</div>\n",
              "      <button class=\"colab-df-convert\" onclick=\"convertToInteractive('df-6c3c5015-b967-47a6-ab90-d3894f6c5bd9')\"\n",
              "              title=\"Convert this dataframe to an interactive table.\"\n",
              "              style=\"display:none;\">\n",
              "        \n",
              "  <svg xmlns=\"http://www.w3.org/2000/svg\" height=\"24px\"viewBox=\"0 0 24 24\"\n",
              "       width=\"24px\">\n",
              "    <path d=\"M0 0h24v24H0V0z\" fill=\"none\"/>\n",
              "    <path d=\"M18.56 5.44l.94 2.06.94-2.06 2.06-.94-2.06-.94-.94-2.06-.94 2.06-2.06.94zm-11 1L8.5 8.5l.94-2.06 2.06-.94-2.06-.94L8.5 2.5l-.94 2.06-2.06.94zm10 10l.94 2.06.94-2.06 2.06-.94-2.06-.94-.94-2.06-.94 2.06-2.06.94z\"/><path d=\"M17.41 7.96l-1.37-1.37c-.4-.4-.92-.59-1.43-.59-.52 0-1.04.2-1.43.59L10.3 9.45l-7.72 7.72c-.78.78-.78 2.05 0 2.83L4 21.41c.39.39.9.59 1.41.59.51 0 1.02-.2 1.41-.59l7.78-7.78 2.81-2.81c.8-.78.8-2.07 0-2.86zM5.41 20L4 18.59l7.72-7.72 1.47 1.35L5.41 20z\"/>\n",
              "  </svg>\n",
              "      </button>\n",
              "      \n",
              "  <style>\n",
              "    .colab-df-container {\n",
              "      display:flex;\n",
              "      flex-wrap:wrap;\n",
              "      gap: 12px;\n",
              "    }\n",
              "\n",
              "    .colab-df-convert {\n",
              "      background-color: #E8F0FE;\n",
              "      border: none;\n",
              "      border-radius: 50%;\n",
              "      cursor: pointer;\n",
              "      display: none;\n",
              "      fill: #1967D2;\n",
              "      height: 32px;\n",
              "      padding: 0 0 0 0;\n",
              "      width: 32px;\n",
              "    }\n",
              "\n",
              "    .colab-df-convert:hover {\n",
              "      background-color: #E2EBFA;\n",
              "      box-shadow: 0px 1px 2px rgba(60, 64, 67, 0.3), 0px 1px 3px 1px rgba(60, 64, 67, 0.15);\n",
              "      fill: #174EA6;\n",
              "    }\n",
              "\n",
              "    [theme=dark] .colab-df-convert {\n",
              "      background-color: #3B4455;\n",
              "      fill: #D2E3FC;\n",
              "    }\n",
              "\n",
              "    [theme=dark] .colab-df-convert:hover {\n",
              "      background-color: #434B5C;\n",
              "      box-shadow: 0px 1px 3px 1px rgba(0, 0, 0, 0.15);\n",
              "      filter: drop-shadow(0px 1px 2px rgba(0, 0, 0, 0.3));\n",
              "      fill: #FFFFFF;\n",
              "    }\n",
              "  </style>\n",
              "\n",
              "      <script>\n",
              "        const buttonEl =\n",
              "          document.querySelector('#df-6c3c5015-b967-47a6-ab90-d3894f6c5bd9 button.colab-df-convert');\n",
              "        buttonEl.style.display =\n",
              "          google.colab.kernel.accessAllowed ? 'block' : 'none';\n",
              "\n",
              "        async function convertToInteractive(key) {\n",
              "          const element = document.querySelector('#df-6c3c5015-b967-47a6-ab90-d3894f6c5bd9');\n",
              "          const dataTable =\n",
              "            await google.colab.kernel.invokeFunction('convertToInteractive',\n",
              "                                                     [key], {});\n",
              "          if (!dataTable) return;\n",
              "\n",
              "          const docLinkHtml = 'Like what you see? Visit the ' +\n",
              "            '<a target=\"_blank\" href=https://colab.research.google.com/notebooks/data_table.ipynb>data table notebook</a>'\n",
              "            + ' to learn more about interactive tables.';\n",
              "          element.innerHTML = '';\n",
              "          dataTable['output_type'] = 'display_data';\n",
              "          await google.colab.output.renderOutput(dataTable, element);\n",
              "          const docLink = document.createElement('div');\n",
              "          docLink.innerHTML = docLinkHtml;\n",
              "          element.appendChild(docLink);\n",
              "        }\n",
              "      </script>\n",
              "    </div>\n",
              "  </div>\n",
              "  "
            ]
          },
          "metadata": {},
          "execution_count": 22
        }
      ]
    },
    {
      "cell_type": "code",
      "source": [
        "# Collecter les données de la page 1 à la page 334\n",
        "df2 = pd.DataFrame()\n",
        "for p in range(1,335):\n",
        "  Url2 = f'https://www.expat-dakar.com/vehicules?condition=used&page={p}'\n",
        "  res2 = get(Url2)\n",
        "  soup2 = BeautifulSoup(res2.text)\n",
        "  Conteneurs = soup2.find_all('div',class_='listings-cards__list-item')\n",
        "  data2=[]\n",
        "  for Conteneur in Conteneurs : \n",
        "    try :\n",
        "      Gen2 = Conteneur.find('div',class_='listing-card__header__tags').find_all('span')\n",
        "      Ven_Occ = Gen2[0].text \n",
        "      Marque= Gen2[1].text\n",
        "      Année = Gen2[2].text \n",
        "      Aut_Man = Gen2[3].text\n",
        "      Adresse = Conteneur.find('div',class_=\"listing-card__header__location\").text.replace('\\n','')\n",
        "      Prix = Conteneur.find('div',class_=\"listing-card__info-bar__price\").span.text.strip().replace('\\u202f','').replace(' F Cfa','')\n",
        "      \n",
        "      obj2 = {\n",
        "           'Ven_Occ': Ven_Occ,\n",
        "           'Marque': Marque, \n",
        "           'Année': int(Année), \n",
        "           'Aut_Man': Aut_Man, \n",
        "           'Adresse': Adresse,\n",
        "           'Prix': int(Prix) \n",
        "        }\n",
        "      data2.append(obj2)\n",
        "    except:\n",
        "      pass\n",
        "  DF2 = pd.DataFrame(data2) # Dataframe d'une page\n",
        "  df2 =pd.concat([df2,DF2],axis=0) # Concaténation de DF2 et df2\n"
      ],
      "metadata": {
        "id": "JHSrMKr_xLpB"
      },
      "execution_count": null,
      "outputs": []
    },
    {
      "cell_type": "code",
      "source": [
        "# Afficher les 5 premiers lignes de df2\n",
        "df2.head(5)"
      ],
      "metadata": {
        "id": "aygeHpv9xwu9",
        "colab": {
          "base_uri": "https://localhost:8080/",
          "height": 206
        },
        "outputId": "0c350b7f-195e-410c-830c-d5b7ebf02987"
      },
      "execution_count": null,
      "outputs": [
        {
          "output_type": "execute_result",
          "data": {
            "text/plain": [
              "      Ven_Occ      Marque  Année      Aut_Man           Adresse      Prix\n",
              "0  D'occasion  Land Rover   2016  Automatique        Ngor,Dakar  14500000\n",
              "1  D'occasion     Hyundai   2015  Automatique  Sacré-cœur,Dakar  11500000\n",
              "2  D'occasion        Ford   2012  Automatique         VDN,Dakar   5200000\n",
              "3  D'occasion     Peugeot   2009     Manuelle  Guediawaye,Dakar   4500000\n",
              "4  D'occasion        Ford   2013  Automatique    Mamelles,Dakar   3600000"
            ],
            "text/html": [
              "\n",
              "  <div id=\"df-ca871cea-3a60-4883-9c9c-c924add383f0\">\n",
              "    <div class=\"colab-df-container\">\n",
              "      <div>\n",
              "<style scoped>\n",
              "    .dataframe tbody tr th:only-of-type {\n",
              "        vertical-align: middle;\n",
              "    }\n",
              "\n",
              "    .dataframe tbody tr th {\n",
              "        vertical-align: top;\n",
              "    }\n",
              "\n",
              "    .dataframe thead th {\n",
              "        text-align: right;\n",
              "    }\n",
              "</style>\n",
              "<table border=\"1\" class=\"dataframe\">\n",
              "  <thead>\n",
              "    <tr style=\"text-align: right;\">\n",
              "      <th></th>\n",
              "      <th>Ven_Occ</th>\n",
              "      <th>Marque</th>\n",
              "      <th>Année</th>\n",
              "      <th>Aut_Man</th>\n",
              "      <th>Adresse</th>\n",
              "      <th>Prix</th>\n",
              "    </tr>\n",
              "  </thead>\n",
              "  <tbody>\n",
              "    <tr>\n",
              "      <th>0</th>\n",
              "      <td>D'occasion</td>\n",
              "      <td>Land Rover</td>\n",
              "      <td>2016</td>\n",
              "      <td>Automatique</td>\n",
              "      <td>Ngor,Dakar</td>\n",
              "      <td>14500000</td>\n",
              "    </tr>\n",
              "    <tr>\n",
              "      <th>1</th>\n",
              "      <td>D'occasion</td>\n",
              "      <td>Hyundai</td>\n",
              "      <td>2015</td>\n",
              "      <td>Automatique</td>\n",
              "      <td>Sacré-cœur,Dakar</td>\n",
              "      <td>11500000</td>\n",
              "    </tr>\n",
              "    <tr>\n",
              "      <th>2</th>\n",
              "      <td>D'occasion</td>\n",
              "      <td>Ford</td>\n",
              "      <td>2012</td>\n",
              "      <td>Automatique</td>\n",
              "      <td>VDN,Dakar</td>\n",
              "      <td>5200000</td>\n",
              "    </tr>\n",
              "    <tr>\n",
              "      <th>3</th>\n",
              "      <td>D'occasion</td>\n",
              "      <td>Peugeot</td>\n",
              "      <td>2009</td>\n",
              "      <td>Manuelle</td>\n",
              "      <td>Guediawaye,Dakar</td>\n",
              "      <td>4500000</td>\n",
              "    </tr>\n",
              "    <tr>\n",
              "      <th>4</th>\n",
              "      <td>D'occasion</td>\n",
              "      <td>Ford</td>\n",
              "      <td>2013</td>\n",
              "      <td>Automatique</td>\n",
              "      <td>Mamelles,Dakar</td>\n",
              "      <td>3600000</td>\n",
              "    </tr>\n",
              "  </tbody>\n",
              "</table>\n",
              "</div>\n",
              "      <button class=\"colab-df-convert\" onclick=\"convertToInteractive('df-ca871cea-3a60-4883-9c9c-c924add383f0')\"\n",
              "              title=\"Convert this dataframe to an interactive table.\"\n",
              "              style=\"display:none;\">\n",
              "        \n",
              "  <svg xmlns=\"http://www.w3.org/2000/svg\" height=\"24px\"viewBox=\"0 0 24 24\"\n",
              "       width=\"24px\">\n",
              "    <path d=\"M0 0h24v24H0V0z\" fill=\"none\"/>\n",
              "    <path d=\"M18.56 5.44l.94 2.06.94-2.06 2.06-.94-2.06-.94-.94-2.06-.94 2.06-2.06.94zm-11 1L8.5 8.5l.94-2.06 2.06-.94-2.06-.94L8.5 2.5l-.94 2.06-2.06.94zm10 10l.94 2.06.94-2.06 2.06-.94-2.06-.94-.94-2.06-.94 2.06-2.06.94z\"/><path d=\"M17.41 7.96l-1.37-1.37c-.4-.4-.92-.59-1.43-.59-.52 0-1.04.2-1.43.59L10.3 9.45l-7.72 7.72c-.78.78-.78 2.05 0 2.83L4 21.41c.39.39.9.59 1.41.59.51 0 1.02-.2 1.41-.59l7.78-7.78 2.81-2.81c.8-.78.8-2.07 0-2.86zM5.41 20L4 18.59l7.72-7.72 1.47 1.35L5.41 20z\"/>\n",
              "  </svg>\n",
              "      </button>\n",
              "      \n",
              "  <style>\n",
              "    .colab-df-container {\n",
              "      display:flex;\n",
              "      flex-wrap:wrap;\n",
              "      gap: 12px;\n",
              "    }\n",
              "\n",
              "    .colab-df-convert {\n",
              "      background-color: #E8F0FE;\n",
              "      border: none;\n",
              "      border-radius: 50%;\n",
              "      cursor: pointer;\n",
              "      display: none;\n",
              "      fill: #1967D2;\n",
              "      height: 32px;\n",
              "      padding: 0 0 0 0;\n",
              "      width: 32px;\n",
              "    }\n",
              "\n",
              "    .colab-df-convert:hover {\n",
              "      background-color: #E2EBFA;\n",
              "      box-shadow: 0px 1px 2px rgba(60, 64, 67, 0.3), 0px 1px 3px 1px rgba(60, 64, 67, 0.15);\n",
              "      fill: #174EA6;\n",
              "    }\n",
              "\n",
              "    [theme=dark] .colab-df-convert {\n",
              "      background-color: #3B4455;\n",
              "      fill: #D2E3FC;\n",
              "    }\n",
              "\n",
              "    [theme=dark] .colab-df-convert:hover {\n",
              "      background-color: #434B5C;\n",
              "      box-shadow: 0px 1px 3px 1px rgba(0, 0, 0, 0.15);\n",
              "      filter: drop-shadow(0px 1px 2px rgba(0, 0, 0, 0.3));\n",
              "      fill: #FFFFFF;\n",
              "    }\n",
              "  </style>\n",
              "\n",
              "      <script>\n",
              "        const buttonEl =\n",
              "          document.querySelector('#df-ca871cea-3a60-4883-9c9c-c924add383f0 button.colab-df-convert');\n",
              "        buttonEl.style.display =\n",
              "          google.colab.kernel.accessAllowed ? 'block' : 'none';\n",
              "\n",
              "        async function convertToInteractive(key) {\n",
              "          const element = document.querySelector('#df-ca871cea-3a60-4883-9c9c-c924add383f0');\n",
              "          const dataTable =\n",
              "            await google.colab.kernel.invokeFunction('convertToInteractive',\n",
              "                                                     [key], {});\n",
              "          if (!dataTable) return;\n",
              "\n",
              "          const docLinkHtml = 'Like what you see? Visit the ' +\n",
              "            '<a target=\"_blank\" href=https://colab.research.google.com/notebooks/data_table.ipynb>data table notebook</a>'\n",
              "            + ' to learn more about interactive tables.';\n",
              "          element.innerHTML = '';\n",
              "          dataTable['output_type'] = 'display_data';\n",
              "          await google.colab.output.renderOutput(dataTable, element);\n",
              "          const docLink = document.createElement('div');\n",
              "          docLink.innerHTML = docLinkHtml;\n",
              "          element.appendChild(docLink);\n",
              "        }\n",
              "      </script>\n",
              "    </div>\n",
              "  </div>\n",
              "  "
            ]
          },
          "metadata": {},
          "execution_count": 24
        }
      ]
    },
    {
      "cell_type": "code",
      "source": [
        "# Afficher la dimension de df2\n",
        "df2.shape"
      ],
      "metadata": {
        "id": "JX8Nrf6dxxUm",
        "colab": {
          "base_uri": "https://localhost:8080/"
        },
        "outputId": "a092e2b6-61ae-491e-d0cb-d1f23453c74c"
      },
      "execution_count": null,
      "outputs": [
        {
          "output_type": "execute_result",
          "data": {
            "text/plain": [
              "(3084, 6)"
            ]
          },
          "metadata": {},
          "execution_count": 25
        }
      ]
    },
    {
      "cell_type": "code",
      "source": [
        "# Reset des index de df2\n",
        "df2.reset_index(drop = True, inplace =True)"
      ],
      "metadata": {
        "id": "W4ZnLMBzx37G"
      },
      "execution_count": null,
      "outputs": []
    },
    {
      "cell_type": "code",
      "source": [
        "# Infos des données \n",
        "df2.info()"
      ],
      "metadata": {
        "id": "dzJR311HCctI",
        "colab": {
          "base_uri": "https://localhost:8080/"
        },
        "outputId": "891e21bb-12d6-469e-e960-846af9bd9cf3"
      },
      "execution_count": null,
      "outputs": [
        {
          "output_type": "stream",
          "name": "stdout",
          "text": [
            "<class 'pandas.core.frame.DataFrame'>\n",
            "RangeIndex: 3084 entries, 0 to 3083\n",
            "Data columns (total 6 columns):\n",
            " #   Column   Non-Null Count  Dtype \n",
            "---  ------   --------------  ----- \n",
            " 0   Ven_Occ  3084 non-null   object\n",
            " 1   Marque   3084 non-null   object\n",
            " 2   Année    3084 non-null   int64 \n",
            " 3   Aut_Man  3084 non-null   object\n",
            " 4   Adresse  3084 non-null   object\n",
            " 5   Prix     3084 non-null   int64 \n",
            "dtypes: int64(2), object(4)\n",
            "memory usage: 144.7+ KB\n"
          ]
        }
      ]
    },
    {
      "cell_type": "markdown",
      "source": [
        "## Concater les deux dataframes des voitures venant avec celui des voitures D'occassion"
      ],
      "metadata": {
        "id": "xrMflLDHBOxD"
      }
    },
    {
      "cell_type": "code",
      "source": [
        "# Concaténation de df1 et df2\n",
        "df_concat =pd.concat([df1,df2],axis=0)"
      ],
      "metadata": {
        "id": "udUcBW88Bl6h"
      },
      "execution_count": null,
      "outputs": []
    },
    {
      "cell_type": "code",
      "source": [
        "df_concat.shape"
      ],
      "metadata": {
        "id": "KaVpz00bb4UM",
        "colab": {
          "base_uri": "https://localhost:8080/"
        },
        "outputId": "82f8e309-1eda-4843-b0b7-2b11a1dc4cc4"
      },
      "execution_count": null,
      "outputs": [
        {
          "output_type": "execute_result",
          "data": {
            "text/plain": [
              "(6460, 6)"
            ]
          },
          "metadata": {},
          "execution_count": 29
        }
      ]
    },
    {
      "cell_type": "code",
      "source": [
        "# Reset des index  de df_concat\n",
        "df_concat.reset_index(drop = True, inplace =True)"
      ],
      "metadata": {
        "id": "Yw3IjWzZG7wS"
      },
      "execution_count": null,
      "outputs": []
    },
    {
      "cell_type": "code",
      "source": [
        "# Afficher les 5 premiers lignes de df_concat\n",
        "df_concat.head(5)"
      ],
      "metadata": {
        "id": "H-nZbtLwk1y4",
        "colab": {
          "base_uri": "https://localhost:8080/",
          "height": 206
        },
        "outputId": "f974d48f-cad4-46af-e951-c81d0279bfe2"
      },
      "execution_count": null,
      "outputs": [
        {
          "output_type": "execute_result",
          "data": {
            "text/plain": [
              "  Ven_Occ      Marque  Année      Aut_Man           Adresse      Prix\n",
              "0  Venant       Mazda   2016  Automatique     Mermoz,Dakar    9800000\n",
              "1  Venant  Volkswagen   2019  Automatique  Sacré-cœur,Dakar  24000000\n",
              "2  Venant       Mazda   2016  Automatique      Mermoz,Dakar   9800000\n",
              "3  Venant     Hyundai   2016  Automatique   Cambérène,Dakar  14500000\n",
              "4  Venant        Ford   2015  Automatique         VDN,Dakar   6600000"
            ],
            "text/html": [
              "\n",
              "  <div id=\"df-3009580c-6e4f-48da-8aff-6bebb2a5b0f2\">\n",
              "    <div class=\"colab-df-container\">\n",
              "      <div>\n",
              "<style scoped>\n",
              "    .dataframe tbody tr th:only-of-type {\n",
              "        vertical-align: middle;\n",
              "    }\n",
              "\n",
              "    .dataframe tbody tr th {\n",
              "        vertical-align: top;\n",
              "    }\n",
              "\n",
              "    .dataframe thead th {\n",
              "        text-align: right;\n",
              "    }\n",
              "</style>\n",
              "<table border=\"1\" class=\"dataframe\">\n",
              "  <thead>\n",
              "    <tr style=\"text-align: right;\">\n",
              "      <th></th>\n",
              "      <th>Ven_Occ</th>\n",
              "      <th>Marque</th>\n",
              "      <th>Année</th>\n",
              "      <th>Aut_Man</th>\n",
              "      <th>Adresse</th>\n",
              "      <th>Prix</th>\n",
              "    </tr>\n",
              "  </thead>\n",
              "  <tbody>\n",
              "    <tr>\n",
              "      <th>0</th>\n",
              "      <td>Venant</td>\n",
              "      <td>Mazda</td>\n",
              "      <td>2016</td>\n",
              "      <td>Automatique</td>\n",
              "      <td>Mermoz,Dakar</td>\n",
              "      <td>9800000</td>\n",
              "    </tr>\n",
              "    <tr>\n",
              "      <th>1</th>\n",
              "      <td>Venant</td>\n",
              "      <td>Volkswagen</td>\n",
              "      <td>2019</td>\n",
              "      <td>Automatique</td>\n",
              "      <td>Sacré-cœur,Dakar</td>\n",
              "      <td>24000000</td>\n",
              "    </tr>\n",
              "    <tr>\n",
              "      <th>2</th>\n",
              "      <td>Venant</td>\n",
              "      <td>Mazda</td>\n",
              "      <td>2016</td>\n",
              "      <td>Automatique</td>\n",
              "      <td>Mermoz,Dakar</td>\n",
              "      <td>9800000</td>\n",
              "    </tr>\n",
              "    <tr>\n",
              "      <th>3</th>\n",
              "      <td>Venant</td>\n",
              "      <td>Hyundai</td>\n",
              "      <td>2016</td>\n",
              "      <td>Automatique</td>\n",
              "      <td>Cambérène,Dakar</td>\n",
              "      <td>14500000</td>\n",
              "    </tr>\n",
              "    <tr>\n",
              "      <th>4</th>\n",
              "      <td>Venant</td>\n",
              "      <td>Ford</td>\n",
              "      <td>2015</td>\n",
              "      <td>Automatique</td>\n",
              "      <td>VDN,Dakar</td>\n",
              "      <td>6600000</td>\n",
              "    </tr>\n",
              "  </tbody>\n",
              "</table>\n",
              "</div>\n",
              "      <button class=\"colab-df-convert\" onclick=\"convertToInteractive('df-3009580c-6e4f-48da-8aff-6bebb2a5b0f2')\"\n",
              "              title=\"Convert this dataframe to an interactive table.\"\n",
              "              style=\"display:none;\">\n",
              "        \n",
              "  <svg xmlns=\"http://www.w3.org/2000/svg\" height=\"24px\"viewBox=\"0 0 24 24\"\n",
              "       width=\"24px\">\n",
              "    <path d=\"M0 0h24v24H0V0z\" fill=\"none\"/>\n",
              "    <path d=\"M18.56 5.44l.94 2.06.94-2.06 2.06-.94-2.06-.94-.94-2.06-.94 2.06-2.06.94zm-11 1L8.5 8.5l.94-2.06 2.06-.94-2.06-.94L8.5 2.5l-.94 2.06-2.06.94zm10 10l.94 2.06.94-2.06 2.06-.94-2.06-.94-.94-2.06-.94 2.06-2.06.94z\"/><path d=\"M17.41 7.96l-1.37-1.37c-.4-.4-.92-.59-1.43-.59-.52 0-1.04.2-1.43.59L10.3 9.45l-7.72 7.72c-.78.78-.78 2.05 0 2.83L4 21.41c.39.39.9.59 1.41.59.51 0 1.02-.2 1.41-.59l7.78-7.78 2.81-2.81c.8-.78.8-2.07 0-2.86zM5.41 20L4 18.59l7.72-7.72 1.47 1.35L5.41 20z\"/>\n",
              "  </svg>\n",
              "      </button>\n",
              "      \n",
              "  <style>\n",
              "    .colab-df-container {\n",
              "      display:flex;\n",
              "      flex-wrap:wrap;\n",
              "      gap: 12px;\n",
              "    }\n",
              "\n",
              "    .colab-df-convert {\n",
              "      background-color: #E8F0FE;\n",
              "      border: none;\n",
              "      border-radius: 50%;\n",
              "      cursor: pointer;\n",
              "      display: none;\n",
              "      fill: #1967D2;\n",
              "      height: 32px;\n",
              "      padding: 0 0 0 0;\n",
              "      width: 32px;\n",
              "    }\n",
              "\n",
              "    .colab-df-convert:hover {\n",
              "      background-color: #E2EBFA;\n",
              "      box-shadow: 0px 1px 2px rgba(60, 64, 67, 0.3), 0px 1px 3px 1px rgba(60, 64, 67, 0.15);\n",
              "      fill: #174EA6;\n",
              "    }\n",
              "\n",
              "    [theme=dark] .colab-df-convert {\n",
              "      background-color: #3B4455;\n",
              "      fill: #D2E3FC;\n",
              "    }\n",
              "\n",
              "    [theme=dark] .colab-df-convert:hover {\n",
              "      background-color: #434B5C;\n",
              "      box-shadow: 0px 1px 3px 1px rgba(0, 0, 0, 0.15);\n",
              "      filter: drop-shadow(0px 1px 2px rgba(0, 0, 0, 0.3));\n",
              "      fill: #FFFFFF;\n",
              "    }\n",
              "  </style>\n",
              "\n",
              "      <script>\n",
              "        const buttonEl =\n",
              "          document.querySelector('#df-3009580c-6e4f-48da-8aff-6bebb2a5b0f2 button.colab-df-convert');\n",
              "        buttonEl.style.display =\n",
              "          google.colab.kernel.accessAllowed ? 'block' : 'none';\n",
              "\n",
              "        async function convertToInteractive(key) {\n",
              "          const element = document.querySelector('#df-3009580c-6e4f-48da-8aff-6bebb2a5b0f2');\n",
              "          const dataTable =\n",
              "            await google.colab.kernel.invokeFunction('convertToInteractive',\n",
              "                                                     [key], {});\n",
              "          if (!dataTable) return;\n",
              "\n",
              "          const docLinkHtml = 'Like what you see? Visit the ' +\n",
              "            '<a target=\"_blank\" href=https://colab.research.google.com/notebooks/data_table.ipynb>data table notebook</a>'\n",
              "            + ' to learn more about interactive tables.';\n",
              "          element.innerHTML = '';\n",
              "          dataTable['output_type'] = 'display_data';\n",
              "          await google.colab.output.renderOutput(dataTable, element);\n",
              "          const docLink = document.createElement('div');\n",
              "          docLink.innerHTML = docLinkHtml;\n",
              "          element.appendChild(docLink);\n",
              "        }\n",
              "      </script>\n",
              "    </div>\n",
              "  </div>\n",
              "  "
            ]
          },
          "metadata": {},
          "execution_count": 32
        }
      ]
    },
    {
      "cell_type": "code",
      "source": [
        "# Afficher les infos de df_concat\n",
        "df_concat.info()"
      ],
      "metadata": {
        "id": "tkrIqqdpk7Kk",
        "colab": {
          "base_uri": "https://localhost:8080/"
        },
        "outputId": "160d47a3-629f-4110-b4bd-c2dcd2985428"
      },
      "execution_count": null,
      "outputs": [
        {
          "output_type": "stream",
          "name": "stdout",
          "text": [
            "<class 'pandas.core.frame.DataFrame'>\n",
            "RangeIndex: 6460 entries, 0 to 6459\n",
            "Data columns (total 6 columns):\n",
            " #   Column   Non-Null Count  Dtype \n",
            "---  ------   --------------  ----- \n",
            " 0   Ven_Occ  6460 non-null   object\n",
            " 1   Marque   6460 non-null   object\n",
            " 2   Année    6460 non-null   int64 \n",
            " 3   Aut_Man  6460 non-null   object\n",
            " 4   Adresse  6460 non-null   object\n",
            " 5   Prix     6460 non-null   int64 \n",
            "dtypes: int64(2), object(4)\n",
            "memory usage: 302.9+ KB\n"
          ]
        }
      ]
    }
  ],
  "metadata": {
    "kernelspec": {
      "display_name": "Python 3.9.7 ('base')",
      "language": "python",
      "name": "python3"
    },
    "language_info": {
      "codemirror_mode": {
        "name": "ipython",
        "version": 3
      },
      "file_extension": ".py",
      "mimetype": "text/x-python",
      "name": "python",
      "nbconvert_exporter": "python",
      "pygments_lexer": "ipython3",
      "version": "3.9.7"
    },
    "vscode": {
      "interpreter": {
        "hash": "3a6c00fc5620953538c32d112035affe8cfbc0c86b343ca3bafcb4118ace2e26"
      }
    },
    "colab": {
      "provenance": []
    },
    "accelerator": "GPU",
    "gpuClass": "standard"
  },
  "nbformat": 4,
  "nbformat_minor": 0
}